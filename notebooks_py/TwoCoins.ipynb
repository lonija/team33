{
  "nbformat": 4,
  "nbformat_minor": 0,
  "metadata": {
    "colab": {
      "provenance": []
    },
    "kernelspec": {
      "name": "python3",
      "display_name": "Python 3"
    },
    "language_info": {
      "name": "python"
    }
  },
  "cells": [
    {
      "cell_type": "code",
      "execution_count": 4,
      "metadata": {
        "id": "CIm5kdTtJWXe"
      },
      "outputs": [],
      "source": [
        "import numpy as np"
      ]
    },
    {
      "cell_type": "code",
      "source": [
        "coin1 = ['Heads', 'Tails']\n",
        "coin2 = ['Heads', 'Tails']\n"
      ],
      "metadata": {
        "id": "k0LHvI8xKVRh"
      },
      "execution_count": 6,
      "outputs": []
    },
    {
      "cell_type": "code",
      "source": [
        "coin1"
      ],
      "metadata": {
        "colab": {
          "base_uri": "https://localhost:8080/"
        },
        "id": "SjcSctbbLKWI",
        "outputId": "bf261f73-4aab-4570-fbea-326bc393a68a"
      },
      "execution_count": 7,
      "outputs": [
        {
          "output_type": "execute_result",
          "data": {
            "text/plain": [
              "['Heads', 'Tails']"
            ]
          },
          "metadata": {},
          "execution_count": 7
        }
      ]
    },
    {
      "cell_type": "code",
      "source": [
        "number_of_throws = 500"
      ],
      "metadata": {
        "id": "lbzuY5vZLOuj"
      },
      "execution_count": 22,
      "outputs": []
    },
    {
      "cell_type": "code",
      "source": [
        "tosses1 = np.random.choice(coin1, number_of_throws)\n",
        "tosses2 = np.random.choice(coin2, number_of_throws)"
      ],
      "metadata": {
        "id": "J2AhZGDgLLO3"
      },
      "execution_count": 23,
      "outputs": []
    },
    {
      "cell_type": "code",
      "source": [
        "heads_count1 = np.count_nonzero(tosses1 == 'Heads')\n",
        "heads_count2 = np.count_nonzero(tosses2 == 'Heads')"
      ],
      "metadata": {
        "id": "yYT_ukO-LoNs"
      },
      "execution_count": 24,
      "outputs": []
    },
    {
      "cell_type": "code",
      "source": [
        "heads_count1"
      ],
      "metadata": {
        "colab": {
          "base_uri": "https://localhost:8080/"
        },
        "id": "bBTqT5kgLyxq",
        "outputId": "019c6a9a-f02f-4fa8-92dc-bf13384d2ba2"
      },
      "execution_count": 25,
      "outputs": [
        {
          "output_type": "execute_result",
          "data": {
            "text/plain": [
              "265"
            ]
          },
          "metadata": {},
          "execution_count": 25
        }
      ]
    },
    {
      "cell_type": "code",
      "source": [
        "heads_count2"
      ],
      "metadata": {
        "colab": {
          "base_uri": "https://localhost:8080/"
        },
        "id": "lR42gtffL1z0",
        "outputId": "86d92b9c-ef01-43b6-de50-8de2bb314bca"
      },
      "execution_count": 26,
      "outputs": [
        {
          "output_type": "execute_result",
          "data": {
            "text/plain": [
              "256"
            ]
          },
          "metadata": {},
          "execution_count": 26
        }
      ]
    },
    {
      "cell_type": "code",
      "source": [
        "HH_count = np.count_nonzero((tosses1 == 'Heads') & (tosses2 == 'Heads'))"
      ],
      "metadata": {
        "id": "SNxMMs3WL5Hs"
      },
      "execution_count": 27,
      "outputs": []
    },
    {
      "cell_type": "code",
      "source": [
        "HH_count"
      ],
      "metadata": {
        "colab": {
          "base_uri": "https://localhost:8080/"
        },
        "id": "f_zUpHggL_bV",
        "outputId": "bc87eb49-cc50-4359-daac-240a9c2f92f0"
      },
      "execution_count": 28,
      "outputs": [
        {
          "output_type": "execute_result",
          "data": {
            "text/plain": [
              "140"
            ]
          },
          "metadata": {},
          "execution_count": 28
        }
      ]
    },
    {
      "cell_type": "code",
      "source": [
        "TH_count = np.count_nonzero((tosses1 == 'Tails') & (tosses2 == 'Heads'))\n",
        "TH_count"
      ],
      "metadata": {
        "colab": {
          "base_uri": "https://localhost:8080/"
        },
        "id": "2TkWHR-5MBtb",
        "outputId": "d643e5d9-79e6-4bec-d04a-49b73be2d75a"
      },
      "execution_count": 29,
      "outputs": [
        {
          "output_type": "execute_result",
          "data": {
            "text/plain": [
              "116"
            ]
          },
          "metadata": {},
          "execution_count": 29
        }
      ]
    },
    {
      "cell_type": "code",
      "source": [
        "HT_count = np.count_nonzero((tosses1 == 'Heads') & (tosses2 == 'Tails'))\n",
        "HT_count\n"
      ],
      "metadata": {
        "colab": {
          "base_uri": "https://localhost:8080/"
        },
        "id": "Un985fXtMKwq",
        "outputId": "d67acdca-ef20-42bf-dc24-43aebdb653ba"
      },
      "execution_count": 30,
      "outputs": [
        {
          "output_type": "execute_result",
          "data": {
            "text/plain": [
              "125"
            ]
          },
          "metadata": {},
          "execution_count": 30
        }
      ]
    },
    {
      "cell_type": "code",
      "source": [
        "TT_count = np.count_nonzero((tosses1 == 'Tails') & (tosses2 == 'Tails'))\n",
        "TT_count\n",
        "#"
      ],
      "metadata": {
        "colab": {
          "base_uri": "https://localhost:8080/"
        },
        "id": "JbJM3nCZMgsr",
        "outputId": "4512ea3c-3c47-40ae-eb27-eab7a1b41f53"
      },
      "execution_count": 31,
      "outputs": [
        {
          "output_type": "execute_result",
          "data": {
            "text/plain": [
              "119"
            ]
          },
          "metadata": {},
          "execution_count": 31
        }
      ]
    },
    {
      "cell_type": "code",
      "source": [
        "import matplotlib.pyplot as plt"
      ],
      "metadata": {
        "id": "HVFrM5npM4MX"
      },
      "execution_count": 32,
      "outputs": []
    },
    {
      "cell_type": "code",
      "source": [
        "plt.title(\"Coin toss 500x\")\n",
        "x = ['TT', 'TH', 'HH', 'HT']\n",
        "y = [TT_count, TH_count, HH_count, HT_count]\n",
        "plt.bar(x, y, color=\"purple\")\n",
        "plt.show()"
      ],
      "metadata": {
        "colab": {
          "base_uri": "https://localhost:8080/",
          "height": 452
        },
        "id": "nHh3rp3ANEvI",
        "outputId": "7909b89c-3ec7-440a-d67e-52b8f1a5afca"
      },
      "execution_count": 71,
      "outputs": [
        {
          "output_type": "display_data",
          "data": {
            "text/plain": [
              "<Figure size 640x480 with 1 Axes>"
            ],
            "image/png": "[encoded data removed]"
          },
          "metadata": {}
        }
      ]
    },
    {
      "cell_type": "code",
      "source": [
        "# toss 100\n"
      ],
      "metadata": {
        "id": "HBJdcjyuP8U8"
      },
      "execution_count": null,
      "outputs": []
    },
    {
      "cell_type": "code",
      "source": [
        "number_of_throws = 100"
      ],
      "metadata": {
        "id": "Y0Ejj_OgQHz0"
      },
      "execution_count": 37,
      "outputs": []
    },
    {
      "cell_type": "code",
      "source": [
        "tosses1 = np.random.choice(coin1, number_of_throws)\n",
        "tosses2 = np.random.choice(coin2, number_of_throws)"
      ],
      "metadata": {
        "id": "crvCLA1RQHz1"
      },
      "execution_count": 38,
      "outputs": []
    },
    {
      "cell_type": "code",
      "source": [
        "heads_count1 = np.count_nonzero(tosses1 == 'Heads')\n",
        "heads_count2 = np.count_nonzero(tosses2 == 'Heads')"
      ],
      "metadata": {
        "id": "D2h5210jQHz1"
      },
      "execution_count": 39,
      "outputs": []
    },
    {
      "cell_type": "code",
      "source": [
        "heads_count1"
      ],
      "metadata": {
        "colab": {
          "base_uri": "https://localhost:8080/"
        },
        "outputId": "9fddd095-aaa4-42ff-bef9-09d31da1c3ee",
        "id": "0oP5LIbKQHz1"
      },
      "execution_count": 40,
      "outputs": [
        {
          "output_type": "execute_result",
          "data": {
            "text/plain": [
              "44"
            ]
          },
          "metadata": {},
          "execution_count": 40
        }
      ]
    },
    {
      "cell_type": "code",
      "source": [
        "heads_count2"
      ],
      "metadata": {
        "colab": {
          "base_uri": "https://localhost:8080/"
        },
        "outputId": "4bf244ce-d762-462d-8711-5ed1b77fc443",
        "id": "hmDNQ4lzQHz2"
      },
      "execution_count": 41,
      "outputs": [
        {
          "output_type": "execute_result",
          "data": {
            "text/plain": [
              "47"
            ]
          },
          "metadata": {},
          "execution_count": 41
        }
      ]
    },
    {
      "cell_type": "code",
      "source": [
        "HH_count = np.count_nonzero((tosses1 == 'Heads') & (tosses2 == 'Heads'))"
      ],
      "metadata": {
        "id": "Zh6pJIFlQHz2"
      },
      "execution_count": 42,
      "outputs": []
    },
    {
      "cell_type": "code",
      "source": [
        "HH_count"
      ],
      "metadata": {
        "colab": {
          "base_uri": "https://localhost:8080/"
        },
        "outputId": "1ca1a656-d105-48b7-8308-277b8bd9484a",
        "id": "UIu9qEKLQHz2"
      },
      "execution_count": 43,
      "outputs": [
        {
          "output_type": "execute_result",
          "data": {
            "text/plain": [
              "21"
            ]
          },
          "metadata": {},
          "execution_count": 43
        }
      ]
    },
    {
      "cell_type": "code",
      "source": [
        "TH_count = np.count_nonzero((tosses1 == 'Tails') & (tosses2 == 'Heads'))\n",
        "TH_count"
      ],
      "metadata": {
        "colab": {
          "base_uri": "https://localhost:8080/"
        },
        "outputId": "5b075bad-77b1-4254-e532-0fa452e152e8",
        "id": "b4_lE3u6QHz3"
      },
      "execution_count": 44,
      "outputs": [
        {
          "output_type": "execute_result",
          "data": {
            "text/plain": [
              "26"
            ]
          },
          "metadata": {},
          "execution_count": 44
        }
      ]
    },
    {
      "cell_type": "code",
      "source": [
        "HT_count = np.count_nonzero((tosses1 == 'Heads') & (tosses2 == 'Tails'))\n",
        "HT_count\n"
      ],
      "metadata": {
        "colab": {
          "base_uri": "https://localhost:8080/"
        },
        "outputId": "c2bc6300-c4bf-467d-9193-a2cd5a1619a6",
        "id": "GJSC9jupQHz3"
      },
      "execution_count": 45,
      "outputs": [
        {
          "output_type": "execute_result",
          "data": {
            "text/plain": [
              "23"
            ]
          },
          "metadata": {},
          "execution_count": 45
        }
      ]
    },
    {
      "cell_type": "code",
      "source": [
        "TT_count = np.count_nonzero((tosses1 == 'Tails') & (tosses2 == 'Tails'))\n",
        "TT_count\n",
        "#"
      ],
      "metadata": {
        "colab": {
          "base_uri": "https://localhost:8080/"
        },
        "outputId": "4b05bd89-94bf-4e49-adf8-0b668e4ca8d1",
        "id": "TB7jRytvQHz4"
      },
      "execution_count": 46,
      "outputs": [
        {
          "output_type": "execute_result",
          "data": {
            "text/plain": [
              "30"
            ]
          },
          "metadata": {},
          "execution_count": 46
        }
      ]
    },
    {
      "cell_type": "code",
      "source": [
        "plt.title(\"Coin toss 100x\")\n",
        "x = ['TT', 'TH', 'HH', 'HT']\n",
        "y = [TT_count, TH_count, HH_count, HT_count]\n",
        "plt.bar(x, y, color=\"skyblue\")\n",
        "plt.show()"
      ],
      "metadata": {
        "colab": {
          "base_uri": "https://localhost:8080/",
          "height": 452
        },
        "id": "G6LnjtWxQnzl",
        "outputId": "ac0a4554-2b1c-49bf-f9c1-ec999c39b68a"
      },
      "execution_count": 68,
      "outputs": [
        {
          "output_type": "display_data",
          "data": {
            "text/plain": [
              "<Figure size 640x480 with 1 Axes>"
            ],
            "image/png": "[encoded data removed]"
          },
          "metadata": {}
        }
      ]
    },
    {
      "cell_type": "markdown",
      "source": [],
      "metadata": {
        "id": "7XsCWVteQVez"
      }
    },
    {
      "cell_type": "code",
      "source": [],
      "metadata": {
        "id": "w8kzwq8LQNg_"
      },
      "execution_count": null,
      "outputs": []
    },
    {
      "cell_type": "markdown",
      "source": [
        "toss 1000\n"
      ],
      "metadata": {
        "id": "EHAqvuh_QPHB"
      }
    },
    {
      "cell_type": "code",
      "source": [],
      "metadata": {
        "id": "yKvn-lHtQWty"
      },
      "execution_count": null,
      "outputs": []
    },
    {
      "cell_type": "code",
      "source": [
        "number_of_throws = 1000"
      ],
      "metadata": {
        "id": "NV2V7KGvQXLb"
      },
      "execution_count": 57,
      "outputs": []
    },
    {
      "cell_type": "code",
      "source": [
        "tosses1 = np.random.choice(coin1, number_of_throws)\n",
        "tosses2 = np.random.choice(coin2, number_of_throws)"
      ],
      "metadata": {
        "id": "Q4yn2VatQXLc"
      },
      "execution_count": 58,
      "outputs": []
    },
    {
      "cell_type": "code",
      "source": [
        "heads_count1 = np.count_nonzero(tosses1 == 'Heads')\n",
        "heads_count2 = np.count_nonzero(tosses2 == 'Heads')"
      ],
      "metadata": {
        "id": "N9-PJnAdQXLc"
      },
      "execution_count": 59,
      "outputs": []
    },
    {
      "cell_type": "code",
      "source": [
        "heads_count1"
      ],
      "metadata": {
        "colab": {
          "base_uri": "https://localhost:8080/"
        },
        "outputId": "a09e9846-1527-49b4-b1a0-961eef1f4e0e",
        "id": "TOPq0QKDQXLc"
      },
      "execution_count": 60,
      "outputs": [
        {
          "output_type": "execute_result",
          "data": {
            "text/plain": [
              "489"
            ]
          },
          "metadata": {},
          "execution_count": 60
        }
      ]
    },
    {
      "cell_type": "code",
      "source": [
        "heads_count2"
      ],
      "metadata": {
        "colab": {
          "base_uri": "https://localhost:8080/"
        },
        "outputId": "1035230c-1ee7-42ae-ed7b-3da751842ac3",
        "id": "AKtlT8pHQXLd"
      },
      "execution_count": 61,
      "outputs": [
        {
          "output_type": "execute_result",
          "data": {
            "text/plain": [
              "492"
            ]
          },
          "metadata": {},
          "execution_count": 61
        }
      ]
    },
    {
      "cell_type": "code",
      "source": [
        "HH_count = np.count_nonzero((tosses1 == 'Heads') & (tosses2 == 'Heads'))"
      ],
      "metadata": {
        "id": "sVb3mQZ7QXLd"
      },
      "execution_count": 62,
      "outputs": []
    },
    {
      "cell_type": "code",
      "source": [
        "HH_count"
      ],
      "metadata": {
        "colab": {
          "base_uri": "https://localhost:8080/"
        },
        "outputId": "086cc867-245f-419f-da36-caacb9a545c8",
        "id": "xcCsH3akQXLd"
      },
      "execution_count": 63,
      "outputs": [
        {
          "output_type": "execute_result",
          "data": {
            "text/plain": [
              "245"
            ]
          },
          "metadata": {},
          "execution_count": 63
        }
      ]
    },
    {
      "cell_type": "code",
      "source": [
        "TH_count = np.count_nonzero((tosses1 == 'Tails') & (tosses2 == 'Heads'))\n",
        "TH_count"
      ],
      "metadata": {
        "colab": {
          "base_uri": "https://localhost:8080/"
        },
        "outputId": "33ce06bd-8067-4b75-b34d-f30cc314243b",
        "id": "hB3dsiP-QXLe"
      },
      "execution_count": 64,
      "outputs": [
        {
          "output_type": "execute_result",
          "data": {
            "text/plain": [
              "247"
            ]
          },
          "metadata": {},
          "execution_count": 64
        }
      ]
    },
    {
      "cell_type": "code",
      "source": [
        "HT_count = np.count_nonzero((tosses1 == 'Heads') & (tosses2 == 'Tails'))\n",
        "HT_count\n"
      ],
      "metadata": {
        "colab": {
          "base_uri": "https://localhost:8080/"
        },
        "outputId": "7548bd31-fda4-4830-d27d-5b1ce887c1dc",
        "id": "OqV04IX8QXLg"
      },
      "execution_count": 65,
      "outputs": [
        {
          "output_type": "execute_result",
          "data": {
            "text/plain": [
              "244"
            ]
          },
          "metadata": {},
          "execution_count": 65
        }
      ]
    },
    {
      "cell_type": "code",
      "source": [
        "TT_count = np.count_nonzero((tosses1 == 'Tails') & (tosses2 == 'Tails'))\n",
        "TT_count\n",
        "#"
      ],
      "metadata": {
        "colab": {
          "base_uri": "https://localhost:8080/"
        },
        "outputId": "577ed3be-0cd9-4a70-8964-a58a10c513fe",
        "id": "NYnpuYsPQXLg"
      },
      "execution_count": 66,
      "outputs": [
        {
          "output_type": "execute_result",
          "data": {
            "text/plain": [
              "264"
            ]
          },
          "metadata": {},
          "execution_count": 66
        }
      ]
    },
    {
      "cell_type": "code",
      "source": [
        "plt.title(\"Coin toss 1000x\")\n",
        "x = ['TT', 'TH', 'HH', 'HT']\n",
        "y = [TT_count, TH_count, HH_count, HT_count]\n",
        "plt.bar(x, y, color=\"darkred\")\n",
        "plt.show()"
      ],
      "metadata": {
        "colab": {
          "base_uri": "https://localhost:8080/",
          "height": 452
        },
        "id": "wxXmCWkBQxmn",
        "outputId": "27b30743-6bac-4789-f60d-54daa8b48091"
      },
      "execution_count": 70,
      "outputs": [
        {
          "output_type": "display_data",
          "data": {
            "text/plain": [
              "<Figure size 640x480 with 1 Axes>"
            ],
            "image/png": "[encoded data removed]"
          },
          "metadata": {}
        }
      ]
    }
  ]
}