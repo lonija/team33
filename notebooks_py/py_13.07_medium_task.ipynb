import pandas as pd
import matplotlib.pyplot as plt

dataset = pd.read_csv("/content/transaction_dataset.csv")

filtered_dataset = dataset.iloc[:, 1]

name_counts = filtered_dataset.value_counts(dropna=False)
top_5_names = name_counts.head(5)

plt.barh(top_5_names.index, top_5_names.values, color="gray")
plt.title("Top 5 names by count")
plt.xlabel("Count")
plt.ylabel("Name")
plt.grid(True, which='both', linestyle='--', linewidth=0.1, color='gray')
