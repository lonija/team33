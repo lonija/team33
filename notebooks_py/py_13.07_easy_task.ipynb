import pandas as pd
import matplotlib.pyplot as plt

dataset = pd.read_csv("/content/transaction_dataset.csv")

gender_counts = dataset['Gender'].value_counts(dropna=False)

#plt.bar(df["Year"], df["Avg_Temperature"], color = "skyblue")
gender_counts.plot(kind='bar', color=['pink', 'skyblue', 'thistle'])

plt.xlabel('Gender')
plt.ylabel('Count')
plt.grid(True, which='both', linestyle='--', linewidth=0.1, color='gray')
plt.title('Count of Customers by Gender')

plt.show()
